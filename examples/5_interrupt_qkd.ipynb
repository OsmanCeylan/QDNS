{
 "cells": [
  {
   "cell_type": "code",
   "execution_count": 1,
   "id": "65c74006",
   "metadata": {},
   "outputs": [],
   "source": [
    "import QDNS\n",
    "import logging"
   ]
  },
  {
   "cell_type": "code",
   "execution_count": 2,
   "id": "273c187f",
   "metadata": {},
   "outputs": [],
   "source": [
    "class Alice(QDNS.Node):\n",
    "    def __init__(self, *user_args):\n",
    "        super().__init__(\"Alice\")\n",
    "        self.create_new_application(self.default_app, *user_args)\n",
    "\n",
    "    @staticmethod\n",
    "    def default_app(app: QDNS.Application, *user_args):\n",
    "        protocol = app.run_qkd_protocol(\"Bob\", 512, QDNS.E91_METHOD)\n",
    "\n",
    "        if protocol is None:\n",
    "            print(\"{} :Protocol is failed to establish.\".format(app.host_label))\n",
    "        else:\n",
    "            print(\"{}: QKD Key generated!\".format(app.host_label))"
   ]
  },
  {
   "cell_type": "code",
   "execution_count": 3,
   "id": "4e1b51ce",
   "metadata": {},
   "outputs": [],
   "source": [
    "class Bob(QDNS.Node):\n",
    "    def __init__(self, *user_args):\n",
    "        super().__init__(\"Bob\")\n",
    "        self.create_new_application(self.default_app, *user_args)\n",
    "\n",
    "    @staticmethod\n",
    "    def default_app(app: QDNS.Application, *user_args):\n",
    "        protocol = app.wait_qkd()\n",
    "\n",
    "        if protocol is None:\n",
    "            print(\"Protocol is failed to establish.\")\n",
    "        else:\n",
    "            print(\"{}: QKD Key generated!\".format(app.host_label))"
   ]
  },
  {
   "cell_type": "code",
   "execution_count": 4,
   "id": "084577fb",
   "metadata": {},
   "outputs": [],
   "source": [
    "class Eve(QDNS.Observer):\n",
    "    def __init__(self):\n",
    "        super().__init__(\"Eve\")\n",
    "        self.create_new_application(self.eve_app, delayed_start_time=0, static=True)\n",
    "\n",
    "    @staticmethod\n",
    "    def eve_app(app: QDNS.Application, *user_args):\n",
    "        # Listens the traffic on Eve node in loop.\n",
    "        app.listener.set_interrupt(True)\n",
    "\n",
    "        while True:\n",
    "            communication = app.listener.get_communication_item()\n",
    "\n",
    "            if communication is None:\n",
    "                break\n",
    "\n",
    "            if isinstance(communication, QDNS.Package):\n",
    "                pass\n",
    "            else:\n",
    "                # Eve secretly measures qubits.\n",
    "                app.measure_qubits(communication.qubits)\n",
    "            \n",
    "            # Release packets or qubits we got. We measured qubits.\n",
    "            app.listener.release_item()\n",
    "\n",
    "        print(\"Eve listening is over.\")"
   ]
  },
  {
   "cell_type": "code",
   "execution_count": 5,
   "id": "34dee4e6",
   "metadata": {},
   "outputs": [],
   "source": [
    "def main():\n",
    "    logging.basicConfig(level=logging.WARNING)\n",
    "    \n",
    "    alice, bob, eve = Alice(), Bob(), Eve()\n",
    "    net = QDNS.Network(alice, bob, eve)\n",
    "    net.add_channels(alice, eve, length=1.0) # km\n",
    "    net.add_channels(eve, bob, length=1.0)\n",
    "    \n",
    "    conf = QDNS.BackendConfiguration(QDNS.STIM_BACKEND, 1, {2: 2048})\n",
    "\n",
    "    # Before simulation we can change the qkd protocol default paramters.\n",
    "    # 0.75 to good match threshold, 16 to sample divisor.\n",
    "    # Since channel lengths are 2.0km total, this value to except from protocol. \n",
    "    \n",
    "    QDNS.change_e91_values(0.75, 16)\n",
    "    \n",
    "    # Let's ignore state_preapir, measure error, gate errors.\n",
    "    # Set probabilty to 0, or set channel to QDNS.no_noise_channel.\n",
    "    QDNS.change_default_noise_pattern(\n",
    "        QDNS.NoisePattern(\n",
    "            0.0, 0.0, 0.0,\n",
    "            sp_channel=QDNS.bit_flip_channel,\n",
    "            measure_channel=QDNS.bit_and_phase_flip_channel,\n",
    "            gate_channel=QDNS.phase_flip_channel,\n",
    "            scramble_channel=QDNS.depolarisation_channel,\n",
    "        )\n",
    "    )\n",
    "    \n",
    "    # Also noise pattern can be given to simulate() as paramater or\n",
    "    # can be setted to default as shown as below.\n",
    "\n",
    "    sim = QDNS.Simulator()\n",
    "    results = sim.simulate(net, conf)"
   ]
  },
  {
   "cell_type": "code",
   "execution_count": 7,
   "id": "f35922fe",
   "metadata": {},
   "outputs": [
    {
     "name": "stderr",
     "output_type": "stream",
     "text": [
      "WARNING:QDNS::Kernel::Backend:STIM backend is prepaired for simulation. Prepairation time: ~0.0001 sec\n"
     ]
    },
    {
     "name": "stdout",
     "output_type": "stream",
     "text": [
      "Protocol is failed to establish.\n",
      "Protocol is failed to establish.\n"
     ]
    },
    {
     "name": "stderr",
     "output_type": "stream",
     "text": [
      "WARNING:QDNS::Alice:Device simulation is idled after 1.0018 seconds.\n",
      "WARNING:QDNS::Bob:Device simulation is idled after 1.0018 seconds.\n",
      "WARNING:QDNS::Eve:Device simulation is idled after 1.0017 seconds.\n",
      "WARNING:QDNS::Kernel:Simulation is ended in 1.5046 seconds. Real raw time: 0.0717\n"
     ]
    }
   ],
   "source": [
    "if __name__ == \"__main__\":\n",
    "    main()"
   ]
  },
  {
   "cell_type": "code",
   "execution_count": null,
   "id": "3f616b68",
   "metadata": {},
   "outputs": [],
   "source": []
  }
 ],
 "metadata": {
  "kernelspec": {
   "display_name": "Python 3 (ipykernel)",
   "language": "python",
   "name": "python3"
  },
  "language_info": {
   "codemirror_mode": {
    "name": "ipython",
    "version": 3
   },
   "file_extension": ".py",
   "mimetype": "text/x-python",
   "name": "python",
   "nbconvert_exporter": "python",
   "pygments_lexer": "ipython3",
   "version": "3.9.7"
  }
 },
 "nbformat": 4,
 "nbformat_minor": 5
}
