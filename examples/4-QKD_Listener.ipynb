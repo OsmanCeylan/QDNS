{
 "cells": [
  {
   "cell_type": "code",
   "execution_count": 17,
   "id": "fb679cec",
   "metadata": {},
   "outputs": [],
   "source": [
    "import QDNS\n",
    "import logging"
   ]
  },
  {
   "cell_type": "code",
   "execution_count": 23,
   "id": "2c5e738d",
   "metadata": {},
   "outputs": [],
   "source": [
    "class Alice(QDNS.Device):\n",
    "    def __init__(self):\n",
    "        super().__init__(\"Alice\")\n",
    "        self.create_new_application(self.alice_default_app)\n",
    "\n",
    "    @staticmethod\n",
    "    def alice_default_app(app: QDNS.Application, *user_args):\n",
    "        app.sleep(0.2)\n",
    "        protocol = app.run_qkd_protocol(\"Bob\", 256, QDNS.BB84_METHOD)\n",
    "\n",
    "        if protocol[\"exit_code\"] < 0:\n",
    "            print(\"Key generation is failed. There can be a listener on the network.\")\n",
    "            return\n",
    "\n",
    "        key = protocol[\"key\"]\n",
    "        message = \"Hello Bob! I encrypted this message.\"\n",
    "        message = QDNS.string_encode(key, message)\n",
    "        app.send_classic_data(\"Bob\", message)"
   ]
  },
  {
   "cell_type": "code",
   "execution_count": 24,
   "id": "0d52f862",
   "metadata": {},
   "outputs": [],
   "source": [
    "class Bob(QDNS.Device):\n",
    "    def __init__(self):\n",
    "        super().__init__(\"Bob\")\n",
    "        self.create_new_application(self.bob_default_app)\n",
    "\n",
    "    @staticmethod\n",
    "    def bob_default_app(app: QDNS.Application, *user_args):\n",
    "        protocol = app.wait_qkd()\n",
    "\n",
    "        if protocol[\"exit_code\"] < 0:\n",
    "            print(\"Key generation is failed. There can be a listener on the network.\")\n",
    "            return\n",
    "\n",
    "        key = protocol[\"key\"]\n",
    "        message = app.wait_next_package()[\"package\"].data\n",
    "        print(\"Bob recieved message is: \", message)\n",
    "        print(\"Bob decrypts message: \", QDNS.string_decode(key, message))"
   ]
  },
  {
   "cell_type": "code",
   "execution_count": 25,
   "id": "5a133668",
   "metadata": {},
   "outputs": [],
   "source": [
    "class Eve(QDNS.Observer):\n",
    "    def __init__(self):\n",
    "        super().__init__(\"Eve\")\n",
    "        self.create_new_application(self.eve_default_app)\n",
    "\n",
    "    @staticmethod\n",
    "    def eve_default_app(app: QDNS.Application, *user_args):\n",
    "        while True:\n",
    "            communication = app.listener.get_communication_item(timeout=1.0)\n",
    "            if communication is None:\n",
    "                break\n",
    "            else:\n",
    "                if not isinstance(communication, QDNS.Package):\n",
    "                    app.measure_qubits(communication.qubits)\n",
    "        print(\"Eve listening is over.\")\n"
   ]
  },
  {
   "cell_type": "code",
   "execution_count": 26,
   "id": "019b4d38",
   "metadata": {},
   "outputs": [],
   "source": [
    "def main():\n",
    "    logging.basicConfig(level=logging.DEBUG)\n",
    "\n",
    "    alice = Alice()\n",
    "    bob = Bob()\n",
    "    eve = Eve()\n",
    "\n",
    "    print(\"This value must be reached for detecting Eve in QKD Protocol: \", QDNS.BB84_SAMPLE_FIDELITY)\n",
    "    net = QDNS.Network(alice, bob, eve)\n",
    "    net.add_channels(alice, eve, length=10.0)\n",
    "    net.add_channels(eve, bob, length=10.0)\n",
    "\n",
    "    frames = {\n",
    "        1: 256,\n",
    "        2: 256,\n",
    "    }\n",
    "\n",
    "    QDNS.change_default_cirq_qframe_configuretion(frames)\n",
    "\n",
    "    sim = QDNS.Simulator()\n",
    "    res = sim.simulate(net, backend=QDNS.CIRQ_BACKEND)"
   ]
  },
  {
   "cell_type": "code",
   "execution_count": 27,
   "id": "e4281133",
   "metadata": {},
   "outputs": [
    {
     "name": "stdout",
     "output_type": "stream",
     "text": [
      "This value must be reached for detecting Eve in QKD Protocol:  0.67\n",
      "Key generation is failed. There can be a listener on the network.\n",
      "Eve listening is over.\n"
     ]
    },
    {
     "name": "stderr",
     "output_type": "stream",
     "text": [
      "WARNING:qudns:Simulation is ended in 5.507071256637573 seconds. Raw 1.0038714950561527 seconds.\n"
     ]
    }
   ],
   "source": [
    "main()"
   ]
  },
  {
   "cell_type": "code",
   "execution_count": null,
   "id": "1b309c0b",
   "metadata": {},
   "outputs": [],
   "source": []
  }
 ],
 "metadata": {
  "kernelspec": {
   "display_name": "Python 3",
   "language": "python",
   "name": "python3"
  },
  "language_info": {
   "codemirror_mode": {
    "name": "ipython",
    "version": 3
   },
   "file_extension": ".py",
   "mimetype": "text/x-python",
   "name": "python",
   "nbconvert_exporter": "python",
   "pygments_lexer": "ipython3",
   "version": "3.9.5"
  }
 },
 "nbformat": 4,
 "nbformat_minor": 5
}
