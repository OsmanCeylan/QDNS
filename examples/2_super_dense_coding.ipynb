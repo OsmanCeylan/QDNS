{
 "cells": [
  {
   "cell_type": "code",
   "execution_count": 1,
   "id": "e6bc6d42",
   "metadata": {},
   "outputs": [],
   "source": [
    "import QDNS\n",
    "from QDNS import gates\n",
    "import logging\n",
    "from copy import copy"
   ]
  },
  {
   "cell_type": "code",
   "execution_count": 2,
   "id": "ade54599",
   "metadata": {},
   "outputs": [],
   "source": [
    "class Alice(QDNS.Node):\n",
    "    def __init__(self, *user_args):\n",
    "        super().__init__(\"Alice\")\n",
    "        self.create_new_application(self.alice_default_app, *user_args)\n",
    "\n",
    "    @staticmethod\n",
    "    def alice_default_app(app: QDNS.Application, *user_args):\n",
    "        message = user_args[0]\n",
    "        bt = ''.join('{0:08b}'.format(ord(x), 'b') for x in message)\n",
    "        qubit_count = int(bt.__len__() / 2)\n",
    "\n",
    "        app.send_classic_data(\"Bob\", qubit_count)\n",
    "        my_pairs = app.send_entangle_pairs(qubit_count, \"Bob\")\n",
    "\n",
    "        for i in range(qubit_count):\n",
    "            if bt[2 * i] == '1':\n",
    "                app.apply_transformation(gates.PauliX(), my_pairs[i])\n",
    "            if bt[2 * i + 1] == '1':\n",
    "                app.apply_transformation(gates.PauliZ(), my_pairs[i])\n",
    "        app.send_quantum(\"Bob\", *my_pairs)\n",
    "        app.put_simulation_result(bt)"
   ]
  },
  {
   "cell_type": "code",
   "execution_count": 3,
   "id": "3bf47d3b",
   "metadata": {},
   "outputs": [],
   "source": [
    "class Bob(QDNS.Node):\n",
    "    def __init__(self):\n",
    "        super().__init__(\"Bob\")\n",
    "        self.create_new_application(self.bob_default_app)\n",
    "\n",
    "    @staticmethod\n",
    "    def bob_default_app(app: QDNS.Application):\n",
    "        qubit_count = app.wait_next_package().data\n",
    "        my_pairs = app.wait_next_qubits(qubit_count)[0]\n",
    "\n",
    "        qubits_to_measure = list()\n",
    "        results = list()\n",
    "\n",
    "        alice_pairs = app.wait_next_qubits(qubit_count)[0]\n",
    "\n",
    "        for i in range(qubit_count):\n",
    "            app.apply_transformation(gates.CXGate(), alice_pairs[i], my_pairs[i])\n",
    "            app.apply_transformation(gates.HGate(), alice_pairs[i])\n",
    "            qubits_to_measure.append(copy(my_pairs[i]))\n",
    "            qubits_to_measure.append(copy(alice_pairs[i]))\n",
    "\n",
    "        message = \"\"\n",
    "        chars = \"\"\n",
    "        results = app.measure_qubits(qubits_to_measure)\n",
    "        for i in range(0, results.__len__(), 8):\n",
    "            char = ''.join(str(j) for j in results[i: i + 8])\n",
    "            chars += char\n",
    "            message += chr(int(char, 2))\n",
    "        print(\"Bob prints: \", message)\n",
    "        app.put_simulation_result(chars)"
   ]
  },
  {
   "cell_type": "code",
   "execution_count": 4,
   "id": "fbfa5619",
   "metadata": {},
   "outputs": [],
   "source": [
    "def main():\n",
    "    logging.basicConfig(level=logging.WARNING)\n",
    "\n",
    "    QDNS.set_respond_expire_time(5.0)\n",
    "    QDNS.set_qubit_expire_time(5.0)\n",
    "\n",
    "    message = \"Hello Bob! I am Alice. Nice to meet you.\"\n",
    "    alice, bob = Alice(message), Bob()\n",
    "    net = QDNS.Network(alice, bob)\n",
    "    net.add_channels(alice, bob, length=1.0)\n",
    "\n",
    "    core_count = int(QDNS.core_count / 2)\n",
    "\n",
    "    frames = {\n",
    "        2: {\n",
    "            1: 64,\n",
    "            2: int(message.__len__() * 4)\n",
    "        }\n",
    "    }\n",
    "\n",
    "    backend_conf = QDNS.BackendConfiguration(QDNS.CIRQ_BACKEND, core_count, frames)\n",
    "    sim = QDNS.Simulator()\n",
    "    results = sim.simulate(net, backend_conf)\n",
    "    \n",
    "    message = results.user_dumpings(alice.label, QDNS.DEFAULT_APPLICATION_NAME)\n",
    "    bob_receives = results.user_dumpings(bob.label, QDNS.DEFAULT_APPLICATION_NAME)\n",
    "    \n",
    "    count = 0\n",
    "    for i in range(bob_receives.__len__()):\n",
    "        if bob_receives[i] == message[i]:\n",
    "            count += 1\n",
    "    print(\"Match rate: \", count/ bob_receives.__len__())"
   ]
  },
  {
   "cell_type": "code",
   "execution_count": 5,
   "id": "7d5d2b9e",
   "metadata": {},
   "outputs": [
    {
     "name": "stderr",
     "output_type": "stream",
     "text": [
      "WARNING:QDNS::Kernel::Backend:CIRQ backend is prepaired for simulation. Prepairation time: ~0.2396 sec\n"
     ]
    },
    {
     "name": "stdout",
     "output_type": "stream",
     "text": [
      "Bob prints:  H¥olo Âon! I am Aljb%. ^ice to meet you>\n"
     ]
    },
    {
     "name": "stderr",
     "output_type": "stream",
     "text": [
      "WARNING:QDNS::Alice:Device simulation is idled after 1.0017 seconds.\n",
      "WARNING:QDNS::Bob:Device simulation is idled after 1.0019 seconds.\n",
      "WARNING:QDNS::Kernel:Simulation is ended in 1.2542 seconds. Real raw time: 0.2012\n"
     ]
    },
    {
     "name": "stdout",
     "output_type": "stream",
     "text": [
      "Match rate:  0.959375\n"
     ]
    }
   ],
   "source": [
    "main()"
   ]
  },
  {
   "cell_type": "code",
   "execution_count": null,
   "id": "5f9455d1",
   "metadata": {},
   "outputs": [],
   "source": []
  },
  {
   "cell_type": "code",
   "execution_count": null,
   "id": "20366846",
   "metadata": {},
   "outputs": [],
   "source": []
  }
 ],
 "metadata": {
  "kernelspec": {
   "display_name": "Python 3",
   "language": "python",
   "name": "python3"
  },
  "language_info": {
   "codemirror_mode": {
    "name": "ipython",
    "version": 3
   },
   "file_extension": ".py",
   "mimetype": "text/x-python",
   "name": "python",
   "nbconvert_exporter": "python",
   "pygments_lexer": "ipython3",
   "version": "3.9.6"
  }
 },
 "nbformat": 4,
 "nbformat_minor": 5
}
