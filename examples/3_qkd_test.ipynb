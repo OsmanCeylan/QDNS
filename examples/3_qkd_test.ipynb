{
 "cells": [
  {
   "cell_type": "code",
   "execution_count": 54,
   "id": "b9917413",
   "metadata": {},
   "outputs": [],
   "source": [
    "import QDNS\n",
    "from QDNS import gates\n",
    "import logging"
   ]
  },
  {
   "cell_type": "code",
   "execution_count": 55,
   "id": "199b799a",
   "metadata": {},
   "outputs": [],
   "source": [
    "class Alice(QDNS.Node):\n",
    "    def __init__(self, *user_args):\n",
    "        super().__init__(\"Alice\")\n",
    "        self.create_new_application(self.alice_default_app, *user_args)\n",
    "\n",
    "    @staticmethod\n",
    "    def alice_default_app(app: QDNS.Application, *user_args):\n",
    "        key_length = user_args[0]\n",
    "        message = user_args[1]\n",
    "        \n",
    "        protocol = app.run_qkd_protocol(\"Bob\", key_length, QDNS.BB84_METHOD)\n",
    "        if protocol is None:\n",
    "            print(\"Protocol is failed to establish.\")\n",
    "        \n",
    "        key, length = protocol\n",
    "        encrypted = QDNS.string_encode(key, message)\n",
    "        app.send_classic_data(\"Bob\", encrypted)"
   ]
  },
  {
   "cell_type": "code",
   "execution_count": 56,
   "id": "1c1feefd",
   "metadata": {},
   "outputs": [],
   "source": [
    "class Bob(QDNS.Node):\n",
    "    def __init__(self):\n",
    "        super().__init__(\"Bob\")\n",
    "        self.create_new_application(self.bob_default_app)\n",
    "\n",
    "    @staticmethod\n",
    "    def bob_default_app(app: QDNS.Application):\n",
    "        protocol = app.wait_qkd()\n",
    "        if protocol is None:\n",
    "            print(\"Protocol is failed to establish.\")\n",
    "            \n",
    "        key, length = protocol\n",
    "        encrypted = app.wait_next_package().data\n",
    "        \n",
    "        print(\"Bob recieves encrypted: \", encrypted)\n",
    "        print(\"Bob decryptes: \", QDNS.string_decode(key, encrypted))"
   ]
  },
  {
   "cell_type": "code",
   "execution_count": 63,
   "id": "cb93dfb1",
   "metadata": {},
   "outputs": [],
   "source": [
    "def main():\n",
    "    logging.basicConfig(level=logging.WARNING)\n",
    "    \n",
    "    key_length = 512\n",
    "    message = \"Hello Bob! This is very very private message.\"\n",
    "    alice, bob = Alice(key_length, message), Bob()\n",
    "    \n",
    "    net = QDNS.Network(alice, bob)\n",
    "    net.add_channels(alice, bob, length=5.0)\n",
    "    \n",
    "    core_count = int(QDNS.core_count / 2)\n",
    "    frames = {\n",
    "        2: {\n",
    "            1: int(key_length / core_count) + 16,\n",
    "        }\n",
    "    }\n",
    "    backend_conf = QDNS.BackendConfiguration(QDNS.CIRQ_BACKEND, core_count, frames)\n",
    "    \n",
    "    sim = QDNS.Simulator()\n",
    "    results = sim.simulate(net, backend_conf)"
   ]
  },
  {
   "cell_type": "code",
   "execution_count": 65,
   "id": "dca6d470",
   "metadata": {},
   "outputs": [
    {
     "name": "stderr",
     "output_type": "stream",
     "text": [
      "WARNING:QDNS::Kernel::Backend:CIRQ backend is prepaired for simulation. Prepairation time: ~0.0799 sec\n"
     ]
    },
    {
     "name": "stdout",
     "output_type": "stream",
     "text": [
      "Bob recieves encrypted:  wqPClcKMwpzCj1Biwp_CglFAwoXCiMKawpNRwonCpEDCp8KFwqPCmVHClsKVwpLCqkDCocKSwpnClsKSwpTClkDCncKFwqPCk8KRwofClk4=\n",
      "Bob decryptes:  Hello Bob! This!is very verz prhvate message.\n"
     ]
    },
    {
     "name": "stderr",
     "output_type": "stream",
     "text": [
      "WARNING:QDNS::Alice:Device simulation is idled after 1.0018 seconds.\n",
      "WARNING:QDNS::Bob:Device simulation is idled after 1.0019 seconds.\n",
      "WARNING:QDNS::Kernel:Simulation is ended in 1.5054 seconds. Real raw time: 0.3187\n"
     ]
    }
   ],
   "source": [
    "main()"
   ]
  },
  {
   "cell_type": "code",
   "execution_count": null,
   "id": "e1c8f728",
   "metadata": {},
   "outputs": [],
   "source": []
  },
  {
   "cell_type": "code",
   "execution_count": null,
   "id": "51b9933b",
   "metadata": {},
   "outputs": [],
   "source": []
  }
 ],
 "metadata": {
  "kernelspec": {
   "display_name": "Python 3",
   "language": "python",
   "name": "python3"
  },
  "language_info": {
   "codemirror_mode": {
    "name": "ipython",
    "version": 3
   },
   "file_extension": ".py",
   "mimetype": "text/x-python",
   "name": "python",
   "nbconvert_exporter": "python",
   "pygments_lexer": "ipython3",
   "version": "3.9.6"
  }
 },
 "nbformat": 4,
 "nbformat_minor": 5
}
