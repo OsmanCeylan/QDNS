{
 "cells": [
  {
   "cell_type": "code",
   "execution_count": 5,
   "metadata": {},
   "outputs": [],
   "source": [
    "import QDNS\n",
    "import logging\n",
    "from QDNS import gates"
   ]
  },
  {
   "cell_type": "code",
   "execution_count": 6,
   "metadata": {},
   "outputs": [],
   "source": [
    "    class Alice(QDNS.Node):\n",
    "        def __init__(self):\n",
    "            super().__init__(\"Alice\")\n",
    "            self.create_new_application(self.alice_default_app)\n",
    "\n",
    "        @staticmethod\n",
    "        def alice_default_app(default_app: QDNS.Application, *user_args):\n",
    "\n",
    "            \"\"\"\n",
    "            allocate_qframe in below:\n",
    "                Allocates 3 qubit circit in Cirq, Qiskit or Sdqs\n",
    "                Allocates 3 qubit in Stim\n",
    "            \"\"\"\n",
    "            qubits = default_app.allocate_qframe(3)\n",
    "            print(\"Allocated 3x1 frame: \", qubits)\n",
    "\n",
    "            \"\"\"\n",
    "            allocate_qframes in below:\n",
    "                Allocates 3 qubit 3 circit in Cirq, Qiskit or Sdqs\n",
    "                Allocates 9 qubit in Stim\n",
    "            \"\"\"\n",
    "            qubit_frames = default_app.allocate_qframes(3, 3)\n",
    "            print(\"Allocated 3x3 frame: \", qubit_frames)\n",
    "\n",
    "            \"\"\"\n",
    "            allocate_qframe in below:\n",
    "                Allocates 2 qutrit circuit in Cirq\n",
    "                Allocates 2 qubit circit in Qiskit or Sdqs\n",
    "                Allocates 2 qubit in Stim\n",
    "            \"\"\"\n",
    "            qutrits = default_app.allocate_qframe(2, 3)\n",
    "            print(\"Allocated qutrits: \", qutrits)\n",
    "\n",
    "            \"\"\"\n",
    "            allocate_qubit in below:\n",
    "                Allocates 1 qubit circit in Cirq, Qiskit or Sdqs\n",
    "                Allocates 1 qubit in Stim\n",
    "            \"\"\"\n",
    "            qubit = default_app.allocate_qubit()\n",
    "            print(\"Allocated qubit: \", qubit)\n",
    "\n",
    "            \"\"\"\n",
    "            allocate_qubits in below:\n",
    "                Allocates 4 qubit circit in Cirq, Qiskit or Sdqs\n",
    "                Allocates 4 qubit in Stim\n",
    "            \"\"\"\n",
    "            qubits = default_app.allocate_qubits(4)\n",
    "            print(\"Allocated qubit: \", qubits)\n",
    "\n",
    "            print(\"Total allocated qubits in app: \", default_app.allocated_qubits)\n",
    "            \n",
    "            default_app.deallocate_qubits(*qubits)\n",
    "            \n",
    "            # Lets measure all qubits allocated by this application.\n",
    "            print(\"Results: \", default_app.measure_qubits(default_app.allocated_qubits, True))\n",
    "            \n",
    "            qubits = default_app.allocate_qframe(2)\n",
    "            default_app.apply_transformation(gates.HGate(), qubits[0])\n",
    "            default_app.apply_transformation(gates.CXGate(), qubits[0], qubits[1])\n",
    "            print(\"Results: \", default_app.measure_qubits(qubits))\n",
    "            \n",
    "            # Lets reset epr qubits from top.\n",
    "            default_app.reset_qubits(qubits)\n",
    "            print(\"After Reset Result: \", default_app.measure_qubits(qubits))\n",
    "            \n",
    "            epr_frames = default_app.generate_entangle_pairs(10)\n",
    "            ghz_frames = default_app.generate_ghz_pair(3, 10)\n",
    "            \n",
    "            print(\"EPR's: \", epr_frames)\n",
    "            print(\"GHZ's: \", ghz_frames)"
   ]
  },
  {
   "cell_type": "code",
   "execution_count": 7,
   "metadata": {},
   "outputs": [],
   "source": [
    "def main():\n",
    "    logging.basicConfig(level=logging.WARNING)\n",
    "    \n",
    "    net = QDNS.Network()\n",
    "    net.add_device(Alice())\n",
    "    \n",
    "    frames = {\n",
    "        2: {\n",
    "            1: 128,\n",
    "            2: 64,\n",
    "            3: 32,\n",
    "            4: 16\n",
    "        },\n",
    "        \n",
    "        3: {\n",
    "            2: 8\n",
    "        }\n",
    "        \n",
    "    }\n",
    "    conf = QDNS.BackendConfiguration(QDNS.CIRQ_BACKEND, 5, frames)\n",
    "    sim = QDNS.Simulator()\n",
    "    sim.simulate(net, conf)"
   ]
  },
  {
   "cell_type": "code",
   "execution_count": 8,
   "metadata": {},
   "outputs": [
    {
     "name": "stderr",
     "output_type": "stream",
     "text": [
      "WARNING:QDNS::Kernel::Backend:CIRQ backend is prepaired for simulation. Prepairation time: ~0.1415 sec\n"
     ]
    },
    {
     "name": "stdout",
     "output_type": "stream",
     "text": [
      "Allocated 3x1 frame:  ['1020019200', '1020019201', '1020019202']\n",
      "Allocated 3x3 frame:  [['1020019300', '1020019301', '1020019302'], ['2020019200', '2020019201', '2020019202'], ['3020019200', '3020019201', '3020019202']]\n",
      "Allocated qutrits:  ['1030000000', '1030000001']\n",
      "Allocated qubit:  1020000000\n",
      "Allocated qubit:  ['1020022400', '1020022401', '1020022402', '1020022403']\n",
      "Total allocated qubits in app:  ['1020019200', '1020019201', '1020019202', '1020019300', '1020019301', '1020019302', '2020019200', '2020019201', '2020019202', '3020019200', '3020019201', '3020019202', '1030000000', '1030000001', '1020000000', '1020022400', '1020022401', '1020022402', '1020022403']\n",
      "Results:  [0. 0. 0. 0. 0. 0. 0. 0. 0. 0. 0. 0. 0. 0. 0.]\n",
      "Results:  [0. 0.]\n",
      "After Reset Result:  [0. 0.]\n",
      "EPR's:  [['1020012900', '1020012901'], ['1020013000', '1020013001'], ['2020012800', '2020012801'], ['2020012900', '2020012901'], ['3020012800', '3020012801'], ['3020012900', '3020012901'], ['5020012800', '5020012801'], ['5020012900', '5020012901'], ['4020012800', '4020012801'], ['4020012900', '4020012901']]\n",
      "GHZ's:  [['2020019300', '2020019301', '2020019302'], ['2020019400', '2020019401', '2020019402'], ['1020019400', '1020019401', '1020019402'], ['1020019500', '1020019501', '1020019502'], ['3020019300', '3020019301', '3020019302'], ['3020019400', '3020019401', '3020019402'], ['5020019200', '5020019201', '5020019202'], ['5020019300', '5020019301', '5020019302'], ['4020019200', '4020019201', '4020019202'], ['4020019300', '4020019301', '4020019302']]\n"
     ]
    },
    {
     "name": "stderr",
     "output_type": "stream",
     "text": [
      "WARNING:QDNS::Alice:Device simulation is idled after 1.0016 seconds.\n",
      "WARNING:QDNS::Kernel:Simulation is ended in 1.2525 seconds. Real raw time: 0.0501\n"
     ]
    }
   ],
   "source": [
    "if __name__ == '__main__':\n",
    "    main()"
   ]
  },
  {
   "cell_type": "code",
   "execution_count": null,
   "metadata": {},
   "outputs": [],
   "source": []
  }
 ],
 "metadata": {
  "kernelspec": {
   "display_name": "Python 3",
   "language": "python",
   "name": "python3"
  },
  "language_info": {
   "codemirror_mode": {
    "name": "ipython",
    "version": 3
   },
   "file_extension": ".py",
   "mimetype": "text/x-python",
   "name": "python",
   "nbconvert_exporter": "python",
   "pygments_lexer": "ipython3",
   "version": "3.9.6"
  }
 },
 "nbformat": 4,
 "nbformat_minor": 4
}
