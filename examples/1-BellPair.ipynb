{
 "cells": [
  {
   "cell_type": "code",
   "execution_count": 1,
   "id": "8fe97abc",
   "metadata": {},
   "outputs": [],
   "source": [
    "import QDNS\n",
    "import logging"
   ]
  },
  {
   "cell_type": "code",
   "execution_count": 2,
   "id": "4675e0e1",
   "metadata": {},
   "outputs": [],
   "source": [
    "class Alice(QDNS.Device):\n",
    "    def __init__(self):\n",
    "        super().__init__(\"Alice\")\n",
    "        self.create_new_application(self.alice_default_app)\n",
    "\n",
    "    @staticmethod\n",
    "    def alice_default_app(app: QDNS.Application, *user_args):\n",
    "        qubits = app.send_entangle_pairs(128, \"Bob\", routing=True)[\"my_pairs\"]\n",
    "        results = app.measure_qubits(qubits)[\"results\"]\n",
    "        app.put_simulation_result(results)"
   ]
  },
  {
   "cell_type": "code",
   "execution_count": 3,
   "id": "3af08d06",
   "metadata": {},
   "outputs": [],
   "source": [
    "class Bob(QDNS.Device):\n",
    "    def __init__(self):\n",
    "        super().__init__(\"Bob\")\n",
    "        self.create_new_application(self.bob_default_app)\n",
    "\n",
    "    @staticmethod\n",
    "    def bob_default_app(app: QDNS.Application, *user_args):\n",
    "        qubits = app.wait_next_qubits(128)[\"qubits\"]\n",
    "        results = app.measure_qubits(qubits)[\"results\"]\n",
    "        app.put_simulation_result(results)"
   ]
  },
  {
   "cell_type": "code",
   "execution_count": 4,
   "id": "99ece4f7",
   "metadata": {},
   "outputs": [],
   "source": [
    "def main():\n",
    "    logging.basicConfig(level=logging.WARNING)\n",
    "\n",
    "    alice = Alice()\n",
    "    bob = Bob()\n",
    "\n",
    "    net = QDNS.Network(alice, bob)\n",
    "    net.add_channels(alice, bob, length=10.0) # 10km.\n",
    "\n",
    "    frames = {\n",
    "        1: 256,\n",
    "        2: 256\n",
    "    }\n",
    "\n",
    "    QDNS.change_default_cirq_qframe_configuretion(frames)\n",
    "\n",
    "    sim = QDNS.Simulator()\n",
    "    res = sim.simulate(net, backend=QDNS.CIRQ_BACKEND)\n",
    "    \n",
    "    alice_result = res.user_dumpings(\"Alice\", QDNS.DEFAULT_APPLICATION_NAME)\n",
    "    bob_result = res.user_dumpings(\"Bob\", QDNS.DEFAULT_APPLICATION_NAME)\n",
    "    \n",
    "    match = 0\n",
    "    for i in range(alice_result.__len__()):\n",
    "        if alice_result[i] == bob_result[i]:\n",
    "            match += 1\n",
    "            \n",
    "    print(\"Measurement results match rate: {}%.\".format(match/alice_result.__len__()*100))"
   ]
  },
  {
   "cell_type": "code",
   "execution_count": 5,
   "id": "da5e8fac",
   "metadata": {},
   "outputs": [
    {
     "name": "stderr",
     "output_type": "stream",
     "text": [
      "WARNING:qudns:Simulation is ended in 4.506298303604126 seconds. Raw 0.0031002109527591415 seconds.\n"
     ]
    },
    {
     "name": "stdout",
     "output_type": "stream",
     "text": [
      "Measurement results match rate: 84.375%.\n"
     ]
    }
   ],
   "source": [
    "main()"
   ]
  },
  {
   "cell_type": "code",
   "execution_count": null,
   "id": "94f71dee",
   "metadata": {},
   "outputs": [],
   "source": []
  }
 ],
 "metadata": {
  "kernelspec": {
   "display_name": "Python 3",
   "language": "python",
   "name": "python3"
  },
  "language_info": {
   "codemirror_mode": {
    "name": "ipython",
    "version": 3
   },
   "file_extension": ".py",
   "mimetype": "text/x-python",
   "name": "python",
   "nbconvert_exporter": "python",
   "pygments_lexer": "ipython3",
   "version": "3.9.5"
  }
 },
 "nbformat": 4,
 "nbformat_minor": 5
}
