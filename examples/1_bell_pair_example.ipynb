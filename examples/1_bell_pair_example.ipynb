{
 "cells": [
  {
   "cell_type": "code",
   "execution_count": 64,
   "id": "d128e663",
   "metadata": {},
   "outputs": [],
   "source": [
    "import QDNS\n",
    "import logging\n",
    "from matplotlib import pyplot as plt\n",
    "from matplotlib.pyplot import figure"
   ]
  },
  {
   "cell_type": "code",
   "execution_count": 65,
   "id": "dce63bb5",
   "metadata": {},
   "outputs": [],
   "source": [
    "class Alice(QDNS.Node):\n",
    "    def __init__(self):\n",
    "        super().__init__(\"Alice\")\n",
    "        self.create_new_application(self.alice_default_app)\n",
    "        \n",
    "    @staticmethod\n",
    "    def alice_default_app(app: QDNS.Application):\n",
    "        my_pairs = app.send_entangle_pairs(512, \"Bob\")\n",
    "        \n",
    "        if my_pairs is None:\n",
    "            print(\"Something gone wrong on Alice side.\")\n",
    "            return\n",
    "        \n",
    "        result = app.measure_qubits(my_pairs)\n",
    "        app.put_simulation_result(result)"
   ]
  },
  {
   "cell_type": "code",
   "execution_count": 66,
   "id": "ad05f5a6",
   "metadata": {},
   "outputs": [],
   "source": [
    "class Bob(QDNS.Node):\n",
    "    def __init__(self):\n",
    "        super().__init__(\"Bob\")\n",
    "        self.create_new_application(self.bob_default_app)\n",
    "        \n",
    "    @staticmethod\n",
    "    def bob_default_app(app: QDNS.Application):\n",
    "        op = app.wait_next_qubits(512)\n",
    "        \n",
    "        if op is None:\n",
    "            print(\"Bob did not receive qubits.\")\n",
    "            return\n",
    "        \n",
    "        my_pairs, count = op[0], op[1]\n",
    "        \n",
    "        result = app.measure_qubits(my_pairs)\n",
    "        app.put_simulation_result(result)"
   ]
  },
  {
   "cell_type": "code",
   "execution_count": 67,
   "id": "441562b7",
   "metadata": {},
   "outputs": [],
   "source": [
    "def main(length_):\n",
    "    logging.basicConfig(level=logging.WARNING)\n",
    "    \n",
    "    alice, bob = Alice(), Bob()\n",
    "    net = QDNS.Network(alice, bob)\n",
    "    net.add_channels(alice, bob, length=length_) #km\n",
    "    \n",
    "    core_count = int(QDNS.core_count/2)\n",
    "    \n",
    "    frames = {\n",
    "        2: {\n",
    "            2: int(600 / core_count)\n",
    "        }\n",
    "    }\n",
    "    backend_conf = QDNS.BackendConfiguration(QDNS.CIRQ_BACKEND, core_count, frames)\n",
    "    \n",
    "    my_noise = QDNS.NoisePattern(\n",
    "        0, 0, 0,\n",
    "        sp_channel=QDNS.depolarisation_channel,\n",
    "        measure_channel=QDNS.bit_and_phase_flip_channel,\n",
    "        gate_channel=QDNS.phase_flip_channel,\n",
    "        scramble_channel=QDNS.depolarisation_channel,\n",
    "    )\n",
    "    sim = QDNS.Simulator()\n",
    "    results = sim.simulate(net, backend_conf, my_noise)\n",
    "    \n",
    "    alice_res = results.user_dumpings(alice.label, QDNS.DEFAULT_APPLICATION_NAME)\n",
    "    bob_res = results.user_dumpings(bob.label, QDNS.DEFAULT_APPLICATION_NAME)\n",
    "    \n",
    "    count = 0\n",
    "    for i in range(alice_res.__len__()):\n",
    "        if alice_res[i] == bob_res[i]:\n",
    "            count += 1\n",
    "    rate = count / alice_res.__len__() * 100\n",
    "    return rate"
   ]
  },
  {
   "cell_type": "code",
   "execution_count": 68,
   "id": "84757786",
   "metadata": {},
   "outputs": [],
   "source": [
    "def run_more():\n",
    "    results = list()\n",
    "    lengths = list()\n",
    "    for i in range(1, 61, 5):\n",
    "        lengths.append(i)\n",
    "        rate = main(i)\n",
    "        results.append(rate)\n",
    "    return lengths, results"
   ]
  },
  {
   "cell_type": "code",
   "execution_count": 69,
   "id": "d7230935",
   "metadata": {},
   "outputs": [
    {
     "name": "stderr",
     "output_type": "stream",
     "text": [
      "WARNING:QDNS::Kernel::Backend:CIRQ backend is prepaired for simulation. Prepairation time: ~0.1298 sec\n",
      "WARNING:QDNS::Alice:Device simulation is idled after 1.0015 seconds.\n",
      "WARNING:QDNS::Bob:Device simulation is idled after 1.2518 seconds.\n",
      "WARNING:QDNS::Kernel:Simulation is ended in 1.7558 seconds. Real raw time: 0.9407\n",
      "WARNING:QDNS::Kernel::Backend:CIRQ backend is prepaired for simulation. Prepairation time: ~0.1316 sec\n",
      "WARNING:QDNS::Alice:Device simulation is idled after 1.001 seconds.\n",
      "WARNING:QDNS::Bob:Device simulation is idled after 1.0012 seconds.\n",
      "WARNING:QDNS::Kernel:Simulation is ended in 1.5049 seconds. Real raw time: 0.786\n",
      "WARNING:QDNS::Kernel::Backend:CIRQ backend is prepaired for simulation. Prepairation time: ~0.1358 sec\n",
      "WARNING:QDNS::Alice:Device simulation is idled after 1.0008 seconds.\n",
      "WARNING:QDNS::Bob:Device simulation is idled after 1.0017 seconds.\n",
      "WARNING:QDNS::Kernel:Simulation is ended in 1.5027 seconds. Real raw time: 0.7541\n",
      "WARNING:QDNS::Kernel::Backend:CIRQ backend is prepaired for simulation. Prepairation time: ~0.3654 sec\n",
      "WARNING:QDNS::Alice:Device simulation is idled after 1.0011 seconds.\n",
      "WARNING:QDNS::Bob:Device simulation is idled after 1.0007 seconds.\n",
      "WARNING:QDNS::Kernel:Simulation is ended in 1.5031 seconds. Real raw time: Unknown\n",
      "WARNING:QDNS::Kernel::Backend:CIRQ backend is prepaired for simulation. Prepairation time: ~0.1304 sec\n",
      "WARNING:QDNS::Alice:Device simulation is idled after 1.0009 seconds.\n",
      "WARNING:QDNS::Bob:Device simulation is idled after 1.252 seconds.\n",
      "WARNING:QDNS::Kernel:Simulation is ended in 1.7554 seconds. Real raw time: 0.9317\n",
      "WARNING:QDNS::Kernel::Backend:CIRQ backend is prepaired for simulation. Prepairation time: ~0.1348 sec\n",
      "WARNING:QDNS::Alice:Device simulation is idled after 1.002 seconds.\n",
      "WARNING:QDNS::Bob:Device simulation is idled after 1.0019 seconds.\n",
      "WARNING:QDNS::Kernel:Simulation is ended in 1.5042 seconds. Real raw time: 0.5775\n",
      "WARNING:QDNS::Kernel::Backend:CIRQ backend is prepaired for simulation. Prepairation time: ~0.1315 sec\n",
      "WARNING:QDNS::Alice:Device simulation is idled after 1.0015 seconds.\n",
      "WARNING:QDNS::Bob:Device simulation is idled after 1.0012 seconds.\n",
      "WARNING:QDNS::Kernel:Simulation is ended in 1.506 seconds. Real raw time: 0.5805\n",
      "WARNING:QDNS::Kernel::Backend:CIRQ backend is prepaired for simulation. Prepairation time: ~0.1583 sec\n",
      "WARNING:QDNS::Alice:Device simulation is idled after 1.0013 seconds.\n",
      "WARNING:QDNS::Bob:Device simulation is idled after 1.0018 seconds.\n",
      "WARNING:QDNS::Kernel:Simulation is ended in 1.5057 seconds. Real raw time: 0.5888\n",
      "WARNING:QDNS::Kernel::Backend:CIRQ backend is prepaired for simulation. Prepairation time: ~0.1503 sec\n",
      "WARNING:QDNS::Alice:Device simulation is idled after 1.0012 seconds.\n",
      "WARNING:QDNS::Bob:Device simulation is idled after 1.0018 seconds.\n",
      "WARNING:QDNS::Kernel:Simulation is ended in 1.5057 seconds. Real raw time: 0.5934\n",
      "WARNING:QDNS::Kernel::Backend:CIRQ backend is prepaired for simulation. Prepairation time: ~0.1581 sec\n",
      "WARNING:QDNS::Alice:Device simulation is idled after 1.0016 seconds.\n",
      "WARNING:QDNS::Bob:Device simulation is idled after 1.0007 seconds.\n",
      "WARNING:QDNS::Kernel:Simulation is ended in 1.5059 seconds. Real raw time: 0.5969\n",
      "WARNING:QDNS::Kernel::Backend:CIRQ backend is prepaired for simulation. Prepairation time: ~0.1588 sec\n",
      "WARNING:QDNS::Alice:Device simulation is idled after 1.0018 seconds.\n",
      "WARNING:QDNS::Bob:Device simulation is idled after 1.0017 seconds.\n",
      "WARNING:QDNS::Kernel:Simulation is ended in 1.5032 seconds. Real raw time: 0.6133\n",
      "WARNING:QDNS::Kernel::Backend:CIRQ backend is prepaired for simulation. Prepairation time: ~0.1376 sec\n",
      "WARNING:QDNS::Alice:Device simulation is idled after 1.0016 seconds.\n",
      "WARNING:QDNS::Bob:Device simulation is idled after 1.0016 seconds.\n",
      "WARNING:QDNS::Kernel:Simulation is ended in 1.5052 seconds. Real raw time: 0.6046\n"
     ]
    }
   ],
   "source": [
    "plot_x, plot_y = run_more()"
   ]
  },
  {
   "cell_type": "code",
   "execution_count": 71,
   "id": "b13056a0",
   "metadata": {},
   "outputs": [
    {
     "data": {
      "text/plain": [
       "Text(0, 0.5, 'Match rate(%)')"
      ]
     },
     "execution_count": 71,
     "metadata": {},
     "output_type": "execute_result"
    },
    {
     "data": {
      "image/png": "[encoded data removed]",
      "text/plain": [
       "<Figure size 720x480 with 1 Axes>"
      ]
     },
     "metadata": {
      "needs_background": "light"
     },
     "output_type": "display_data"
    }
   ],
   "source": [
    "figure(figsize=(9, 6), dpi=80)\n",
    "plt.title(\"EPR pair measure match rate over distance\")\n",
    "plt.plot(plot_x, plot_y, 'go--')\n",
    "plt.ylim(0, 100)\n",
    "plt.xlabel(\"Distance(km)\")\n",
    "plt.ylabel(\"Match rate(%)\")"
   ]
  },
  {
   "cell_type": "code",
   "execution_count": null,
   "id": "d87793ef",
   "metadata": {},
   "outputs": [],
   "source": []
  }
 ],
 "metadata": {
  "kernelspec": {
   "display_name": "Python 3",
   "language": "python",
   "name": "python3"
  },
  "language_info": {
   "codemirror_mode": {
    "name": "ipython",
    "version": 3
   },
   "file_extension": ".py",
   "mimetype": "text/x-python",
   "name": "python",
   "nbconvert_exporter": "python",
   "pygments_lexer": "ipython3",
   "version": "3.9.6"
  }
 },
 "nbformat": 4,
 "nbformat_minor": 5
}
