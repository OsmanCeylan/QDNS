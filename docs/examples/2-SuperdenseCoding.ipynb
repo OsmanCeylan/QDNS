{
 "cells": [
  {
   "cell_type": "code",
   "execution_count": 30,
   "id": "dc2e993b",
   "metadata": {},
   "outputs": [],
   "source": [
    "import QDNS\n",
    "import logging\n",
    "import QDNS.tools.gates as gates"
   ]
  },
  {
   "cell_type": "code",
   "execution_count": 31,
   "id": "6ad3a6a1",
   "metadata": {},
   "outputs": [],
   "source": [
    "class Alice(QDNS.Device):\n",
    "    def __init__(self):\n",
    "        super().__init__(\"Alice\")\n",
    "        self.create_new_application(self.alice_default_app)\n",
    "\n",
    "    @staticmethod\n",
    "    def alice_default_app(app: QDNS.Application, *user_args):\n",
    "        intended_message = [1, 1]\n",
    "        my_qubit = app.send_entangle_pairs(1, \"Bob\")[\"my_pairs\"][0]\n",
    "\n",
    "        if intended_message[0] == 1:\n",
    "            app.apply_transformation(gates.PauliX(), my_qubit)\n",
    "        if intended_message[1] == 1:\n",
    "            app.apply_transformation(gates.PauliZ(), my_qubit)\n",
    "\n",
    "        app.send_quantum(\"Bob\", my_qubit)\n",
    "        app.put_simulation_result(intended_message)"
   ]
  },
  {
   "cell_type": "code",
   "execution_count": 32,
   "id": "bc968764",
   "metadata": {},
   "outputs": [],
   "source": [
    "class Bob(QDNS.Device):\n",
    "    def __init__(self):\n",
    "        super().__init__(\"Bob\")\n",
    "        self.create_new_application(self.bob_default_app)\n",
    "\n",
    "    @staticmethod\n",
    "    def bob_default_app(app: QDNS.Application, *user_args):\n",
    "        my_qubit = app.wait_next_qubit()[\"qubit\"]\n",
    "        alice_qubit = app.wait_next_qubit()[\"qubit\"]\n",
    "\n",
    "        app.apply_transformation(gates.CXGate(), alice_qubit, my_qubit)\n",
    "        app.apply_transformation(gates.HGate(), alice_qubit)\n",
    "        result = app.measure_qubits((alice_qubit, my_qubit))[\"results\"]\n",
    "        app.put_simulation_result(result)"
   ]
  },
  {
   "cell_type": "code",
   "execution_count": 33,
   "id": "09bd3b92",
   "metadata": {},
   "outputs": [],
   "source": [
    "def main():\n",
    "    logging.basicConfig(level=logging.DEBUG)\n",
    "\n",
    "    alice = Alice()\n",
    "    bob = Bob()\n",
    "\n",
    "    net = QDNS.Network(alice, bob)\n",
    "    net.add_channels(alice, bob)\n",
    "\n",
    "    frames = {\n",
    "        1: 16,\n",
    "        2: 16,\n",
    "    }\n",
    "\n",
    "    QDNS.change_default_cirq_qframe_configuretion(frames)\n",
    "\n",
    "    # Set all noise to 0% or set pattern to no_noise_channel. Both work.\n",
    "    my_noise = QDNS.NoisePattern(0, 0, 0, 0.67)\n",
    "\n",
    "    sim = QDNS.Simulator()\n",
    "    res = sim.simulate(net, noise_pattern=my_noise, backend=QDNS.CIRQ_BACKEND)\n",
    "\n",
    "    alice_sended = res.user_dumpings(\"Alice\", QDNS.DEFAULT_APPLICATION_NAME)\n",
    "    bob_measured = res.user_dumpings(\"Bob\", QDNS.DEFAULT_APPLICATION_NAME)\n",
    "\n",
    "    print(\"Alice sended: \", alice_sended)\n",
    "    print(\"Bob measured: \",  bob_measured)"
   ]
  },
  {
   "cell_type": "code",
   "execution_count": 34,
   "id": "026da18a",
   "metadata": {},
   "outputs": [
    {
     "name": "stderr",
     "output_type": "stream",
     "text": [
      "WARNING:qudns:Simulation is ended in 4.506398916244507 seconds. Raw 0.003200823593140001 seconds.\n"
     ]
    },
    {
     "name": "stdout",
     "output_type": "stream",
     "text": [
      "Alice sended:  [1, 1]\n",
      "Bob measured:  [1, 1]\n"
     ]
    }
   ],
   "source": [
    "main()"
   ]
  },
  {
   "cell_type": "code",
   "execution_count": null,
   "id": "c43e943c",
   "metadata": {},
   "outputs": [],
   "source": []
  }
 ],
 "metadata": {
  "kernelspec": {
   "display_name": "Python 3",
   "language": "python",
   "name": "python3"
  },
  "language_info": {
   "codemirror_mode": {
    "name": "ipython",
    "version": 3
   },
   "file_extension": ".py",
   "mimetype": "text/x-python",
   "name": "python",
   "nbconvert_exporter": "python",
   "pygments_lexer": "ipython3",
   "version": "3.9.5"
  }
 },
 "nbformat": 4,
 "nbformat_minor": 5
}
