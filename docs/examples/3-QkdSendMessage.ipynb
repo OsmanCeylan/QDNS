{
 "cells": [
  {
   "cell_type": "code",
   "execution_count": 17,
   "id": "bb07545f",
   "metadata": {},
   "outputs": [],
   "source": [
    "import QDNS\n",
    "import logging"
   ]
  },
  {
   "cell_type": "code",
   "execution_count": 18,
   "id": "be529c21",
   "metadata": {},
   "outputs": [],
   "source": [
    "class Alice(QDNS.Device):\n",
    "    def __init__(self):\n",
    "        super().__init__(\"Alice\")\n",
    "        self.create_new_application(self.alice_default_app)\n",
    "\n",
    "    @staticmethod\n",
    "    def alice_default_app(app: QDNS.Application, *user_args):\n",
    "        protocol = app.run_qkd_protocol(\"Bob\", 256, QDNS.BB84_METHOD)\n",
    "\n",
    "        if protocol[\"exit_code\"] < 0:\n",
    "            print(\"Key generation is failed.\")\n",
    "            return\n",
    "\n",
    "        key = protocol[\"key\"]\n",
    "        message = \"Hello Bob! I encrypted this message.\"\n",
    "        message = QDNS.string_encode(key, message)\n",
    "        app.send_classic_data(\"Bob\", message)"
   ]
  },
  {
   "cell_type": "code",
   "execution_count": 19,
   "id": "05a4afab",
   "metadata": {},
   "outputs": [],
   "source": [
    "class Bob(QDNS.Device):\n",
    "    def __init__(self):\n",
    "        super().__init__(\"Bob\")\n",
    "        self.create_new_application(self.bob_default_app)\n",
    "\n",
    "    @staticmethod\n",
    "    def bob_default_app(app: QDNS.Application, *user_args):\n",
    "        protocol = app.wait_qkd()\n",
    "\n",
    "        if protocol[\"exit_code\"] < 0:\n",
    "            print(\"Key generation is failed.\")\n",
    "            return\n",
    "\n",
    "        key = protocol[\"key\"]\n",
    "        message = app.wait_next_package()[\"package\"].data\n",
    "        print(\"Bob recieved message is: \", message)\n",
    "        print(\"Bob decrypts message: \", QDNS.string_decode(key, message))"
   ]
  },
  {
   "cell_type": "code",
   "execution_count": 20,
   "id": "113355db",
   "metadata": {},
   "outputs": [],
   "source": [
    "def main():\n",
    "    logging.basicConfig(level=logging.DEBUG)\n",
    "\n",
    "    alice = Alice()\n",
    "    bob = Bob()\n",
    "\n",
    "    net = QDNS.Network(alice, bob)\n",
    "    net.add_channels(alice, bob, length=5.0)\n",
    "\n",
    "    frames = {\n",
    "        1: 256,\n",
    "        2: 256,\n",
    "    }\n",
    "\n",
    "    QDNS.change_default_cirq_qframe_configuretion(frames)\n",
    "\n",
    "    sim = QDNS.Simulator()\n",
    "    res = sim.simulate(net, backend=QDNS.CIRQ_BACKEND)"
   ]
  },
  {
   "cell_type": "code",
   "execution_count": 21,
   "id": "cbd10c2a",
   "metadata": {},
   "outputs": [
    {
     "name": "stdout",
     "output_type": "stream",
     "text": [
      "Bob recieved message is:  xQs RPzQ£ª¡¥P¤¤Q¤¤^\n",
      "Bob decrypts message:  Hello!Bob! I encrypted this message.\n"
     ]
    },
    {
     "name": "stderr",
     "output_type": "stream",
     "text": [
      "WARNING:qudns:Simulation is ended in 4.506694078445435 seconds. Raw 0.003496224212646837 seconds.\n"
     ]
    }
   ],
   "source": [
    "main()"
   ]
  },
  {
   "cell_type": "code",
   "execution_count": null,
   "id": "42ebe6aa",
   "metadata": {},
   "outputs": [],
   "source": []
  }
 ],
 "metadata": {
  "kernelspec": {
   "display_name": "Python 3",
   "language": "python",
   "name": "python3"
  },
  "language_info": {
   "codemirror_mode": {
    "name": "ipython",
    "version": 3
   },
   "file_extension": ".py",
   "mimetype": "text/x-python",
   "name": "python",
   "nbconvert_exporter": "python",
   "pygments_lexer": "ipython3",
   "version": "3.9.5"
  }
 },
 "nbformat": 4,
 "nbformat_minor": 5
}
