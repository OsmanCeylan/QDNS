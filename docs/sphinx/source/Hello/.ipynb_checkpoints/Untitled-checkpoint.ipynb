{
 "cells": [
  {
   "cell_type": "code",
   "execution_count": 61,
   "id": "fd755e90",
   "metadata": {},
   "outputs": [],
   "source": [
    "import QDNS\n",
    "import logging"
   ]
  },
  {
   "cell_type": "code",
   "execution_count": 65,
   "id": "d0fac8f2",
   "metadata": {},
   "outputs": [],
   "source": [
    "def alice_default_app(app: QDNS.Application, *user_args):\n",
    "    print(app.reveal_device_information())\n",
    "    print(app.reveal_connection_information(get_uuids=False))\n",
    "    print(app.reveal_port_information(0, search_classic=True))"
   ]
  },
  {
   "cell_type": "code",
   "execution_count": null,
   "id": "2f732ed0",
   "metadata": {},
   "outputs": [],
   "source": []
  },
  {
   "cell_type": "code",
   "execution_count": 66,
   "id": "1110ccad",
   "metadata": {},
   "outputs": [],
   "source": [
    "def main():\n",
    "    logging.basicConfig(level=logging.WARNING)\n",
    "    \n",
    "    alice = QDNS.Node(\"Alice\")\n",
    "    bob = QDNS.Node(\"Bob\")\n",
    "    \n",
    "    alice.create_new_application(alice_default_app)\n",
    "    \n",
    "    net = QDNS.Network(alice, bob)\n",
    "    net.add_channels(alice, bob)\n",
    "    \n",
    "    sim = QDNS.Simulator()\n",
    "    res = sim.simulate(net)"
   ]
  },
  {
   "cell_type": "code",
   "execution_count": 67,
   "id": "bf8e1f8a",
   "metadata": {},
   "outputs": [
    {
     "name": "stdout",
     "output_type": "stream",
     "text": [
      "{'exit_code': 20, 'device_label': 'Alice', 'device_unique_id': UUID('b1244c3d-143e-4865-a59e-ab19594cad5c')}\n"
     ]
    },
    {
     "name": "stderr",
     "output_type": "stream",
     "text": [
      "Exception in thread Thread-26:\n",
      "Traceback (most recent call last):\n",
      "  File \"/usr/lib/python3.9/threading.py\", line 954, in _bootstrap_inner\n",
      "    self.run()\n",
      "  File \"/usr/lib/python3.9/threading.py\", line 892, in run\n",
      "    self._target(*self._args, **self._kwargs)\n",
      "  File \"/home/osman/.local/lib/python3.9/site-packages/QDNS/device/application.py\", line 126, in run\n",
      "    self._function(self, *self.arguments)\n",
      "  File \"<ipython-input-65-0780be58fc1b>\", line 3, in alice_default_app\n",
      "TypeError: reveal_connection_information() got an unexpected keyword argument 'get_uuid'\n",
      "WARNING:qudns:Application default_app of device Alice is probably terminated.\n",
      "WARNING:qudns:Simulation is ended in 4.505113124847412 seconds. Raw 0.005114078521728516 seconds.\n"
     ]
    }
   ],
   "source": [
    "main()"
   ]
  },
  {
   "cell_type": "code",
   "execution_count": null,
   "id": "4a164e51",
   "metadata": {},
   "outputs": [],
   "source": []
  },
  {
   "cell_type": "code",
   "execution_count": null,
   "id": "4650c5a6",
   "metadata": {},
   "outputs": [],
   "source": []
  }
 ],
 "metadata": {
  "kernelspec": {
   "display_name": "Python 3",
   "language": "python",
   "name": "python3"
  },
  "language_info": {
   "codemirror_mode": {
    "name": "ipython",
    "version": 3
   },
   "file_extension": ".py",
   "mimetype": "text/x-python",
   "name": "python",
   "nbconvert_exporter": "python",
   "pygments_lexer": "ipython3",
   "version": "3.9.5"
  }
 },
 "nbformat": 4,
 "nbformat_minor": 5
}
