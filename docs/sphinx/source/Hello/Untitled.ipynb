{
 "cells": [
  {
   "cell_type": "code",
   "execution_count": 152,
   "id": "fd755e90",
   "metadata": {},
   "outputs": [],
   "source": [
    "import QDNS\n",
    "import logging\n",
    "import QDNS.tools.gates as gates"
   ]
  },
  {
   "cell_type": "code",
   "execution_count": 153,
   "id": "d0fac8f2",
   "metadata": {},
   "outputs": [],
   "source": [
    "def alice_default_app(app: QDNS.Application, *user_args):\n",
    "    qubits = app.allocate_qframe(2)['qubits']\n",
    "    app.apply_transformation(gates.HGate(), qubits[0])\n",
    "    app.apply_transformation(gates.CXGate(), qubits[0], qubits[1])\n",
    "    app.reset_qubits(qubits)\n",
    "    print('Results: ', app.measure_qubits(qubits)['results'])"
   ]
  },
  {
   "cell_type": "code",
   "execution_count": 155,
   "id": "1110ccad",
   "metadata": {},
   "outputs": [],
   "source": [
    "def main():\n",
    "    logging.basicConfig(level=logging.INFO)\n",
    "    \n",
    "    alice = QDNS.Node(\"Alice\")\n",
    "    bob = QDNS.Node(\"Bob\")\n",
    "    \n",
    "    alice.create_new_application(alice_default_app)\n",
    "    \n",
    "    net = QDNS.Network(alice, bob)\n",
    "    net.add_channels(alice, bob)\n",
    "    \n",
    "    sim = QDNS.Simulator()\n",
    "    res = sim.simulate(net, backend=QDNS.STIM_BACKEND)"
   ]
  },
  {
   "cell_type": "code",
   "execution_count": 156,
   "id": "bf8e1f8a",
   "metadata": {},
   "outputs": [
    {
     "name": "stderr",
     "output_type": "stream",
     "text": [
      "ERROR:qudns:Stim cannot allocate qframes. Returning N qubits.\n"
     ]
    },
    {
     "name": "stdout",
     "output_type": "stream",
     "text": [
      "Results:  [1, 1]\n"
     ]
    },
    {
     "name": "stderr",
     "output_type": "stream",
     "text": [
      "WARNING:qudns:Simulation is ended in 4.507165193557739 seconds. Raw 0.007166862487792969 seconds.\n"
     ]
    }
   ],
   "source": [
    "main()"
   ]
  },
  {
   "cell_type": "code",
   "execution_count": null,
   "id": "fa39f9ff",
   "metadata": {},
   "outputs": [],
   "source": []
  }
 ],
 "metadata": {
  "kernelspec": {
   "display_name": "Python 3",
   "language": "python",
   "name": "python3"
  },
  "language_info": {
   "codemirror_mode": {
    "name": "ipython",
    "version": 3
   },
   "file_extension": ".py",
   "mimetype": "text/x-python",
   "name": "python",
   "nbconvert_exporter": "python",
   "pygments_lexer": "ipython3",
   "version": "3.9.5"
  }
 },
 "nbformat": 4,
 "nbformat_minor": 5
}
