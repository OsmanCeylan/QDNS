{
 "cells": [
  {
   "cell_type": "code",
   "execution_count": 68,
   "id": "fd755e90",
   "metadata": {},
   "outputs": [],
   "source": [
    "import QDNS\n",
    "import logging"
   ]
  },
  {
   "cell_type": "code",
   "execution_count": 69,
   "id": "d0fac8f2",
   "metadata": {},
   "outputs": [],
   "source": [
    "def alice_default_app(app: QDNS.Application, *user_args):\n",
    "    print(app.reveal_device_information())\n",
    "    print(app.reveal_connection_information(get_uuids=False))\n",
    "    print(app.reveal_port_information(0, search_classic=True))"
   ]
  },
  {
   "cell_type": "code",
   "execution_count": null,
   "id": "2f732ed0",
   "metadata": {},
   "outputs": [],
   "source": []
  },
  {
   "cell_type": "code",
   "execution_count": 70,
   "id": "1110ccad",
   "metadata": {},
   "outputs": [],
   "source": [
    "def main():\n",
    "    logging.basicConfig(level=logging.WARNING)\n",
    "    \n",
    "    alice = QDNS.Node(\"Alice\")\n",
    "    bob = QDNS.Node(\"Bob\")\n",
    "    \n",
    "    alice.create_new_application(alice_default_app)\n",
    "    \n",
    "    net = QDNS.Network(alice, bob)\n",
    "    net.add_channels(alice, bob)\n",
    "    \n",
    "    sim = QDNS.Simulator()\n",
    "    res = sim.simulate(net)"
   ]
  },
  {
   "cell_type": "code",
   "execution_count": 71,
   "id": "bf8e1f8a",
   "metadata": {},
   "outputs": [
    {
     "name": "stdout",
     "output_type": "stream",
     "text": [
      "{'exit_code': 20, 'device_label': 'Alice', 'device_unique_id': UUID('d7f341dc-8661-4077-9df0-8495af0556db')}\n",
      "{'exit_code': 30, 'classic_connections_group': [('AS2L82LIWOE59D09', 'Bob')], 'quantum_connections_group': [('VP81YYGQUH4A9XM4', 'Bob')]}\n",
      "{'exit_code': 40, 'index': 0, 'type': 'Classic port type', 'active': True, 'connected': True, 'channel_id': 'AS2L82LIWOE59D09', 'target': 'Bob', 'latency': 0.00017}\n"
     ]
    },
    {
     "name": "stderr",
     "output_type": "stream",
     "text": [
      "WARNING:qudns:Simulation is ended in 4.50646185874939 seconds. Raw 0.006467580795288086 seconds.\n"
     ]
    }
   ],
   "source": [
    "main()"
   ]
  },
  {
   "cell_type": "code",
   "execution_count": null,
   "id": "4a164e51",
   "metadata": {},
   "outputs": [],
   "source": []
  },
  {
   "cell_type": "code",
   "execution_count": null,
   "id": "4650c5a6",
   "metadata": {},
   "outputs": [],
   "source": []
  }
 ],
 "metadata": {
  "kernelspec": {
   "display_name": "Python 3",
   "language": "python",
   "name": "python3"
  },
  "language_info": {
   "codemirror_mode": {
    "name": "ipython",
    "version": 3
   },
   "file_extension": ".py",
   "mimetype": "text/x-python",
   "name": "python",
   "nbconvert_exporter": "python",
   "pygments_lexer": "ipython3",
   "version": "3.9.5"
  }
 },
 "nbformat": 4,
 "nbformat_minor": 5
}
